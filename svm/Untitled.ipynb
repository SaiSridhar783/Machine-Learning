{
 "cells": [
  {
   "cell_type": "code",
   "execution_count": 1,
   "metadata": {
    "ExecuteTime": {
     "end_time": "2020-12-18T17:46:32.394389Z",
     "start_time": "2020-12-18T17:46:31.698867Z"
    }
   },
   "outputs": [],
   "source": [
    "import matplotlib.pyplot as plt\n",
    "import seaborn as sns\n",
    "import numpy as np\n",
    "import pandas as pd\n",
    "import pickle\n",
    "import math\n",
    "import os\n",
    "\n",
    "from sklearn.preprocessing import StandardScaler\n",
    "from sklearn.metrics import accuracy_score\n",
    "from sklearn.svm import SVC\n",
    "from sklearn.model_selection import train_test_split\n",
    "\n",
    "plt.style.use('seaborn')"
   ]
  },
  {
   "cell_type": "code",
   "execution_count": null,
   "metadata": {
    "ExecuteTime": {
     "end_time": "2020-12-18T17:43:00.992521Z",
     "start_time": "2020-12-18T17:43:00.983042Z"
    }
   },
   "outputs": [],
   "source": [
    "os.listdir()"
   ]
  },
  {
   "cell_type": "code",
   "execution_count": null,
   "metadata": {
    "ExecuteTime": {
     "end_time": "2020-12-18T17:43:01.079898Z",
     "start_time": "2020-12-18T17:43:00.995124Z"
    }
   },
   "outputs": [],
   "source": [
    "X = np.round(pd.read_csv(\"./train_X_svm.csv\"),3)\n",
    "Y = np.array(pd.read_csv(\"./train_Y_svm.csv\", header=None))\n",
    "\n",
    "trainX, testX, trainY, testY = train_test_split(X, Y, test_size=0.22, random_state=4)\n",
    "\n",
    "trainY = np.array([i[0] for i in trainY])\n"
   ]
  },
  {
   "cell_type": "code",
   "execution_count": null,
   "metadata": {
    "ExecuteTime": {
     "end_time": "2020-12-18T15:31:42.898092Z",
     "start_time": "2020-12-18T15:31:42.837872Z"
    }
   },
   "outputs": [],
   "source": []
  },
  {
   "cell_type": "code",
   "execution_count": null,
   "metadata": {
    "ExecuteTime": {
     "end_time": "2020-12-18T15:42:23.802171Z",
     "start_time": "2020-12-18T15:42:23.720350Z"
    }
   },
   "outputs": [],
   "source": []
  },
  {
   "cell_type": "code",
   "execution_count": null,
   "metadata": {
    "ExecuteTime": {
     "end_time": "2020-12-18T17:43:01.350388Z",
     "start_time": "2020-12-18T17:43:01.081566Z"
    },
    "scrolled": false
   },
   "outputs": [],
   "source": [
    "plt.scatter(X[\"Nitrogen\"], X[\"pH\"])\n",
    "plt.plot(X[\"Nitrogen\"], X[\"Nitrates\"])\n"
   ]
  },
  {
   "cell_type": "code",
   "execution_count": null,
   "metadata": {
    "ExecuteTime": {
     "end_time": "2020-12-18T15:52:05.133609Z",
     "start_time": "2020-12-18T15:52:04.849574Z"
    }
   },
   "outputs": [],
   "source": []
  },
  {
   "cell_type": "code",
   "execution_count": null,
   "metadata": {
    "ExecuteTime": {
     "end_time": "2020-12-18T16:10:22.380647Z",
     "start_time": "2020-12-18T16:10:18.104161Z"
    }
   },
   "outputs": [],
   "source": []
  },
  {
   "cell_type": "code",
   "execution_count": null,
   "metadata": {
    "ExecuteTime": {
     "end_time": "2020-12-18T17:46:12.674354Z",
     "start_time": "2020-12-18T17:46:12.638036Z"
    }
   },
   "outputs": [],
   "source": [
    "scaler = StandardScaler()\n",
    "scaler.fit(X)\n",
    "X = scaler.transform(X)\n",
    "\n",
    "model = SVC(kernel=\"rbf\", C=10)\n",
    "\n",
    "trainX, testX, trainY, testY = train_test_split(X, Y, test_size=0.33, random_state=90)\n",
    "trainY = trainY.reshape(len(trainY),)\n",
    "\n",
    "model.fit(trainX, trainY)\n",
    "\n",
    "pred_Y = model.predict(testX)"
   ]
  },
  {
   "cell_type": "code",
   "execution_count": null,
   "metadata": {
    "ExecuteTime": {
     "end_time": "2020-12-18T17:46:12.768115Z",
     "start_time": "2020-12-18T17:46:12.763014Z"
    }
   },
   "outputs": [],
   "source": [
    "accuracy_score(pred_Y,testY)"
   ]
  },
  {
   "cell_type": "code",
   "execution_count": null,
   "metadata": {
    "ExecuteTime": {
     "end_time": "2020-12-18T17:43:01.500980Z",
     "start_time": "2020-12-18T17:43:01.435338Z"
    }
   },
   "outputs": [],
   "source": [
    "X"
   ]
  },
  {
   "cell_type": "code",
   "execution_count": null,
   "metadata": {
    "ExecuteTime": {
     "end_time": "2020-12-18T17:43:01.568553Z",
     "start_time": "2020-12-18T17:43:01.503045Z"
    }
   },
   "outputs": [],
   "source": [
    "Y"
   ]
  },
  {
   "cell_type": "code",
   "execution_count": null,
   "metadata": {
    "ExecuteTime": {
     "end_time": "2020-12-18T17:43:01.646620Z",
     "start_time": "2020-12-18T17:43:01.570668Z"
    }
   },
   "outputs": [],
   "source": [
    "pickle.dump(model, open(\"MODEL_FILE.sav\",\"wb\"))"
   ]
  },
  {
   "cell_type": "code",
   "execution_count": null,
   "metadata": {},
   "outputs": [],
   "source": []
  },
  {
   "cell_type": "code",
   "execution_count": null,
   "metadata": {},
   "outputs": [],
   "source": []
  },
  {
   "cell_type": "code",
   "execution_count": 3,
   "metadata": {
    "ExecuteTime": {
     "end_time": "2020-12-18T17:46:39.333928Z",
     "start_time": "2020-12-18T17:46:39.328049Z"
    }
   },
   "outputs": [],
   "source": [
    "model = pickle.load(open(\"MODEL_FILE.sav\",\"rb\"))"
   ]
  },
  {
   "cell_type": "code",
   "execution_count": null,
   "metadata": {
    "ExecuteTime": {
     "end_time": "2020-12-18T17:43:01.790236Z",
     "start_time": "2020-12-18T17:43:01.708901Z"
    }
   },
   "outputs": [],
   "source": []
  },
  {
   "cell_type": "code",
   "execution_count": 4,
   "metadata": {
    "ExecuteTime": {
     "end_time": "2020-12-18T17:46:40.077167Z",
     "start_time": "2020-12-18T17:46:40.033682Z"
    }
   },
   "outputs": [
    {
     "data": {
      "text/plain": [
       "0.8165137614678899"
      ]
     },
     "execution_count": 4,
     "metadata": {},
     "output_type": "execute_result"
    }
   ],
   "source": [
    "X = np.round(pd.read_csv(\"./train_X_svm.csv\"),3)\n",
    "Y = np.array(pd.read_csv(\"./train_Y_svm.csv\", header=None))\n",
    "scaler = StandardScaler()\n",
    "scaler.fit(X)\n",
    "X = scaler.transform(X)\n",
    "\n",
    "pred = model.predict(X)\n",
    "accuracy_score(pred,Y)"
   ]
  },
  {
   "cell_type": "code",
   "execution_count": null,
   "metadata": {},
   "outputs": [],
   "source": []
  }
 ],
 "metadata": {
  "kernelspec": {
   "display_name": "Python 3",
   "language": "python",
   "name": "python3"
  },
  "language_info": {
   "codemirror_mode": {
    "name": "ipython",
    "version": 3
   },
   "file_extension": ".py",
   "mimetype": "text/x-python",
   "name": "python",
   "nbconvert_exporter": "python",
   "pygments_lexer": "ipython3",
   "version": "3.8.5"
  },
  "varInspector": {
   "cols": {
    "lenName": 16,
    "lenType": 16,
    "lenVar": 40
   },
   "kernels_config": {
    "python": {
     "delete_cmd_postfix": "",
     "delete_cmd_prefix": "del ",
     "library": "var_list.py",
     "varRefreshCmd": "print(var_dic_list())"
    },
    "r": {
     "delete_cmd_postfix": ") ",
     "delete_cmd_prefix": "rm(",
     "library": "var_list.r",
     "varRefreshCmd": "cat(var_dic_list()) "
    }
   },
   "types_to_exclude": [
    "module",
    "function",
    "builtin_function_or_method",
    "instance",
    "_Feature"
   ],
   "window_display": false
  }
 },
 "nbformat": 4,
 "nbformat_minor": 4
}
