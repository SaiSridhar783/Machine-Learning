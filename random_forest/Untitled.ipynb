{
 "cells": [
  {
   "cell_type": "code",
   "execution_count": 5,
   "metadata": {
    "ExecuteTime": {
     "end_time": "2020-12-23T07:31:37.984086Z",
     "start_time": "2020-12-23T07:31:20.040906Z"
    }
   },
   "outputs": [],
   "source": [
    "import numpy as np\n",
    "import pandas as pd\n",
    "import os\n",
    "import turicreate as tc\n",
    "import random\n",
    "import math\n",
    "\n",
    "from collections import Counter\n",
    "from sklearn.ensemble import RandomForestClassifier\n",
    "from sklearn.metrics import accuracy_score\n",
    "from sklearn.model_selection import train_test_split"
   ]
  },
  {
   "cell_type": "code",
   "execution_count": 6,
   "metadata": {
    "ExecuteTime": {
     "end_time": "2020-12-23T07:31:39.297235Z",
     "start_time": "2020-12-23T07:31:38.217912Z"
    },
    "scrolled": true
   },
   "outputs": [
    {
     "data": {
      "text/html": [
       "<pre>Finished parsing file /mnt/e/Spyder - Copy/ML Project/random_forest/train_X_rf.csv</pre>"
      ],
      "text/plain": [
       "Finished parsing file /mnt/e/Spyder - Copy/ML Project/random_forest/train_X_rf.csv"
      ]
     },
     "metadata": {},
     "output_type": "display_data"
    },
    {
     "data": {
      "text/html": [
       "<pre>Parsing completed. Parsed 100 lines in 0.316555 secs.</pre>"
      ],
      "text/plain": [
       "Parsing completed. Parsed 100 lines in 0.316555 secs."
      ]
     },
     "metadata": {},
     "output_type": "display_data"
    },
    {
     "name": "stdout",
     "output_type": "stream",
     "text": [
      "------------------------------------------------------\n",
      "Inferred types from first 100 line(s) of file as \n",
      "column_type_hints=[float,float,float,float,float,float,float,float,float,float,float,float,float,float,float,float,float,float,float,float,float,float,float,float,float,float,float,float,float,float,float,float,float,float,float,float,float,float,float,float,float,float,float,float,float,float,float,float,float,float,float,float,float,float,float,float,float,float,float,float]\n",
      "If parsing fails due to incorrect types, you can correct\n",
      "the inferred type list above and pass it to read_csv in\n",
      "the column_type_hints argument\n",
      "------------------------------------------------------\n"
     ]
    },
    {
     "data": {
      "text/html": [
       "<pre>Finished parsing file /mnt/e/Spyder - Copy/ML Project/random_forest/train_X_rf.csv</pre>"
      ],
      "text/plain": [
       "Finished parsing file /mnt/e/Spyder - Copy/ML Project/random_forest/train_X_rf.csv"
      ]
     },
     "metadata": {},
     "output_type": "display_data"
    },
    {
     "data": {
      "text/html": [
       "<pre>Parsing completed. Parsed 156 lines in 0.030298 secs.</pre>"
      ],
      "text/plain": [
       "Parsing completed. Parsed 156 lines in 0.030298 secs."
      ]
     },
     "metadata": {},
     "output_type": "display_data"
    },
    {
     "data": {
      "text/html": [
       "<pre>Finished parsing file /mnt/e/Spyder - Copy/ML Project/random_forest/train_Y_rf.csv</pre>"
      ],
      "text/plain": [
       "Finished parsing file /mnt/e/Spyder - Copy/ML Project/random_forest/train_Y_rf.csv"
      ]
     },
     "metadata": {},
     "output_type": "display_data"
    },
    {
     "name": "stdout",
     "output_type": "stream",
     "text": [
      "------------------------------------------------------\n",
      "Inferred types from first 100 line(s) of file as \n"
     ]
    },
    {
     "data": {
      "text/html": [
       "<pre>Parsing completed. Parsed 100 lines in 0.029775 secs.</pre>"
      ],
      "text/plain": [
       "Parsing completed. Parsed 100 lines in 0.029775 secs."
      ]
     },
     "metadata": {},
     "output_type": "display_data"
    },
    {
     "name": "stdout",
     "output_type": "stream",
     "text": [
      "column_type_hints=[int]\n",
      "If parsing fails due to incorrect types, you can correct\n",
      "the inferred type list above and pass it to read_csv in\n",
      "the column_type_hints argument\n",
      "------------------------------------------------------\n"
     ]
    },
    {
     "data": {
      "text/html": [
       "<pre>Finished parsing file /mnt/e/Spyder - Copy/ML Project/random_forest/train_Y_rf.csv</pre>"
      ],
      "text/plain": [
       "Finished parsing file /mnt/e/Spyder - Copy/ML Project/random_forest/train_Y_rf.csv"
      ]
     },
     "metadata": {},
     "output_type": "display_data"
    },
    {
     "data": {
      "text/html": [
       "<pre>Parsing completed. Parsed 156 lines in 0.034066 secs.</pre>"
      ],
      "text/plain": [
       "Parsing completed. Parsed 156 lines in 0.034066 secs."
      ]
     },
     "metadata": {},
     "output_type": "display_data"
    }
   ],
   "source": [
    "X = tc.SFrame(\"./train_X_rf.csv\")\n",
    "Y = tc.SFrame.read_csv(\"./train_Y_rf.csv\", header=False)\n",
    "\n",
    "trainX = pd.read_csv(\"./train_X_rf.csv\")\n",
    "trainY = pd.read_csv(\"./train_Y_rf.csv\", header=None)"
   ]
  },
  {
   "cell_type": "code",
   "execution_count": 7,
   "metadata": {
    "ExecuteTime": {
     "end_time": "2020-12-23T07:31:42.151863Z",
     "start_time": "2020-12-23T07:31:41.653435Z"
    },
    "scrolled": true
   },
   "outputs": [],
   "source": [
    "X_train, X_test, Y_train, Y_test = train_test_split(trainX, trainY, test_size=0.2, random_state = 0)"
   ]
  },
  {
   "cell_type": "code",
   "execution_count": null,
   "metadata": {
    "ExecuteTime": {
     "end_time": "2020-12-20T07:22:13.444719Z",
     "start_time": "2020-12-20T07:22:13.438121Z"
    }
   },
   "outputs": [],
   "source": []
  },
  {
   "cell_type": "code",
   "execution_count": 8,
   "metadata": {
    "ExecuteTime": {
     "end_time": "2020-12-23T07:32:27.050121Z",
     "start_time": "2020-12-23T07:32:27.004722Z"
    }
   },
   "outputs": [],
   "source": [
    "import numpy as np\n",
    "import pandas as pd\n",
    "import math\n",
    "import pickle\n",
    "\n",
    "from collections import Counter\n",
    "from sklearn.metrics import accuracy_score\n",
    "from sklearn.tree import DecisionTreeClassifier\n",
    "\n",
    "def gini(S):\n",
    "    c = Counter(S)\n",
    "    m = len(S)\n",
    "    t = 0\n",
    "    for i in c:\n",
    "        t += (c[i]/m)**2\n",
    "        \n",
    "    return 1-t\n",
    "\n",
    "def calculate_gini_index(Y_subsets):\n",
    "    m = 0\n",
    "    for i in Y_subsets:\n",
    "        m += len(i)\n",
    "    \n",
    "    gin = 0 \n",
    "    for i in Y_subsets:\n",
    "        coef = len(i)/m\n",
    "        gin += coef*gini(i)\n",
    "        \n",
    "    return gin\n",
    "\n",
    "def split_data_set(data_X, data_Y, feature_index, threshold):\n",
    "    left_X = []\n",
    "    right_X = []\n",
    "    left_Y = []\n",
    "    right_Y = []\n",
    "    for i in range(len(data_X)):\n",
    "        if data_X[i][feature_index] < threshold:\n",
    "            left_X.append(data_X[i])\n",
    "            left_Y.append(data_Y[i])\n",
    "        else:\n",
    "            right_X.append(data_X[i])\n",
    "            right_Y.append(data_Y[i])\n",
    "    \n",
    "    return left_X, left_Y, right_X, right_Y\n",
    "\n",
    "def get_best_split(X, Y):\n",
    "    X = np.array(X)\n",
    "    best_gini_index = 99999\n",
    "    best_feature = 0\n",
    "    best_threshold = 0\n",
    "    for i in range(len(X[0])):\n",
    "        thresholds = sorted(set(X[:, i]))\n",
    "        for t in thresholds:\n",
    "            left_X, left_Y, right_X, right_Y = split_data_set(X, Y, i, t)\n",
    "            if len(left_X) == 0 or len(right_X) == 0:\n",
    "                continue\n",
    "            gini_index = calculate_gini_index([left_Y, right_Y])\n",
    "            if gini_index < best_gini_index:\n",
    "                best_gini_index, best_feature, best_threshold = gini_index, i, t\n",
    "                \n",
    "    return best_feature, best_threshold\n",
    "\n",
    "class Node:\n",
    "    def __init__(self, predicted_class, depth):\n",
    "        self.predicted_class = predicted_class\n",
    "        self.feature_index = 0\n",
    "        self.threshold = 0\n",
    "        self.depth = depth\n",
    "        self.left = None\n",
    "        self.right = None\n",
    "\n",
    "def construct_tree(X, Y, max_depth, min_size, depth):\n",
    "    Y2 = np.array(Y).reshape(len(Y),)\n",
    "    classes = list(set(Y2))\n",
    "    predicted_class = classes[np.argmax([np.sum(Y2 == c) for c in classes])]\n",
    "    node = Node(predicted_class, depth)\n",
    "\n",
    "    #check is pure\n",
    "    if len(set(Y)) == 1:\n",
    "        return node\n",
    "    \n",
    "    #check max depth reached\n",
    "    if depth >= max_depth:\n",
    "        return node\n",
    "\n",
    "    #check min subset at node\n",
    "    if len(Y) <= min_size:\n",
    "        return node\n",
    "\n",
    "    feature_index, threshold = get_best_split(X, Y)\n",
    "\n",
    "    if feature_index is None or threshold is None:\n",
    "        return node\n",
    "\n",
    "    node.feature_index = feature_index\n",
    "    node.threshold = threshold\n",
    "    \n",
    "    left_X, left_Y, right_X, right_Y = split_data_set(X, Y, feature_index, threshold)\n",
    "\n",
    "    node.left = construct_tree(np.array(left_X), np.array(left_Y), max_depth, min_size, depth + 1)\n",
    "    node.right = construct_tree(np.array(right_X), np.array(right_Y), max_depth, min_size, depth + 1)\n",
    "    \n",
    "    return node\n",
    "\n",
    "def print_tree(node):\n",
    "    if node.left is not None and node.right is not None:\n",
    "        print(\"X\" + str(node.feature_index) + \" \" + str(node.threshold))\n",
    "        \n",
    "    if node.left is not None:\n",
    "        print_tree(node.left)\n",
    "        \n",
    "    if node.right is not None:\n",
    "        print_tree(node.right)\n",
    "        \n",
    "def predict_class(root, X):\n",
    "    node = root #root is a tree constructed using construct_tree method\n",
    "    while node.left:\n",
    "        if X[node.feature_index] < node.threshold:\n",
    "            node = node.left\n",
    "        else:\n",
    "            node = node.right\n",
    "            \n",
    "    return node.predicted_class\n"
   ]
  },
  {
   "cell_type": "code",
   "execution_count": 9,
   "metadata": {
    "ExecuteTime": {
     "end_time": "2020-12-23T07:32:28.526034Z",
     "start_time": "2020-12-23T07:32:27.208503Z"
    },
    "scrolled": true
   },
   "outputs": [],
   "source": [
    "m = 100\n",
    "n = math.ceil(len(X_train.columns)**0.5)\n",
    "\n",
    "random_features = []\n",
    "\n",
    "for i in range(m):\n",
    "    arr = []\n",
    "    while True:\n",
    "        if len(arr)>=n:\n",
    "            break\n",
    "            \n",
    "        k = random.randint(0,59)\n",
    "        if k not in arr:\n",
    "            arr.append(k)\n",
    "            \n",
    "    random_features.append(arr)\n",
    "    \n",
    "random_features = np.array(random_features)"
   ]
  },
  {
   "cell_type": "code",
   "execution_count": 10,
   "metadata": {
    "ExecuteTime": {
     "end_time": "2020-12-23T07:32:29.416231Z",
     "start_time": "2020-12-23T07:32:29.305397Z"
    }
   },
   "outputs": [],
   "source": [
    "def get_bootstrap_samples(X):\n",
    "    bootstraps = []\n",
    "    columns = X.columns\n",
    "    for i in random_features:\n",
    "        arr = X[columns[i]]\n",
    "        bootstraps.append(arr)\n",
    "        \n",
    "    return bootstraps\n",
    "    \n",
    "\n",
    "bootstraps = get_bootstrap_samples(X_train)"
   ]
  },
  {
   "cell_type": "code",
   "execution_count": 11,
   "metadata": {
    "ExecuteTime": {
     "end_time": "2020-12-23T07:32:31.195472Z",
     "start_time": "2020-12-23T07:32:31.161984Z"
    },
    "scrolled": true
   },
   "outputs": [],
   "source": [
    "models = []\n",
    "\n",
    "for i in bootstraps:\n",
    "    model = construct_tree(i, Y_train, 50, 2, 0)\n",
    "    print_tree(model)\n",
    "    models.append(model)"
   ]
  },
  {
   "cell_type": "code",
   "execution_count": 12,
   "metadata": {
    "ExecuteTime": {
     "end_time": "2020-12-23T07:32:32.837717Z",
     "start_time": "2020-12-23T07:32:32.827468Z"
    }
   },
   "outputs": [],
   "source": [
    "final = []\n",
    "for sample in X_test.values:\n",
    "    predictions = []\n",
    "    for i in models:\n",
    "        pred = predict_class(i, sample)\n",
    "        predictions.append(pred)\n",
    "        \n",
    "    final.append(np.argmax(predictions))\n",
    "    "
   ]
  },
  {
   "cell_type": "code",
   "execution_count": 13,
   "metadata": {
    "ExecuteTime": {
     "end_time": "2020-12-23T07:32:35.265912Z",
     "start_time": "2020-12-23T07:32:34.628951Z"
    },
    "scrolled": true
   },
   "outputs": [
    {
     "data": {
      "text/plain": [
       "0.46875"
      ]
     },
     "execution_count": 13,
     "metadata": {},
     "output_type": "execute_result"
    }
   ],
   "source": [
    "accuracy_score(Y_test, final)"
   ]
  },
  {
   "cell_type": "code",
   "execution_count": null,
   "metadata": {
    "ExecuteTime": {
     "end_time": "2020-12-20T13:31:02.305504Z",
     "start_time": "2020-12-20T13:31:02.300608Z"
    },
    "scrolled": true
   },
   "outputs": [],
   "source": []
  },
  {
   "cell_type": "code",
   "execution_count": null,
   "metadata": {},
   "outputs": [],
   "source": []
  },
  {
   "cell_type": "code",
   "execution_count": 14,
   "metadata": {
    "ExecuteTime": {
     "end_time": "2020-12-23T07:33:17.989169Z",
     "start_time": "2020-12-23T07:33:17.958968Z"
    }
   },
   "outputs": [],
   "source": [
    "def gini(S):\n",
    "    c = Counter(S)\n",
    "    m = len(S)\n",
    "    t = 0\n",
    "    for i in c:\n",
    "        t += (c[i]/m)**2\n",
    "        \n",
    "    return 1-t\n",
    "\n",
    "def calculate_gini_index(Y_subsets):\n",
    "    m = 0\n",
    "    for i in Y_subsets:\n",
    "        m += len(i)\n",
    "    \n",
    "    gin = 0 \n",
    "    for i in Y_subsets:\n",
    "        coef = len(i)/m\n",
    "        gin += coef*gini(i)\n",
    "        \n",
    "    return gin\n",
    "\n",
    "\n",
    "def draw_bootstrap(X_train, y_train):\n",
    "    bootstrap_indices = list(np.random.choice(range(len(X_train)), len(X_train), replace = True))\n",
    "    oob_indices = [i for i in range(len(X_train)) if i not in bootstrap_indices]\n",
    "    \n",
    "    X_bootstrap = X_train.iloc[bootstrap_indices].values\n",
    "    y_bootstrap = y_train.iloc[bootstrap_indices].values\n",
    "    X_oob = X_train.iloc[oob_indices].values\n",
    "    y_oob = y_train.iloc[oob_indices].values\n",
    "    \n",
    "    return X_bootstrap, y_bootstrap, X_oob, y_oob\n",
    "\n",
    "\n",
    "def oob_score(tree, X_test, y_test):\n",
    "    mis_label = 0\n",
    "    for i in range(len(X_test)):\n",
    "        pred = predict_tree(tree, X_test[i])\n",
    "        if pred != y_test[i]:\n",
    "            mis_label += 1\n",
    "            \n",
    "    return mis_label / len(X_test)\n",
    "\n",
    "\n",
    "def find_split_point(X_bootstrap, y_bootstrap, max_features):\n",
    "    feature_ls = list()\n",
    "    num_features = len(X_bootstrap[0])\n",
    "\n",
    "    while len(feature_ls) <= max_features:\n",
    "        feature_idx = random.sample(range(num_features), 1)\n",
    "        if feature_idx not in feature_ls:\n",
    "            feature_ls.extend(feature_idx)\n",
    "\n",
    "    best_gini = 10**10\n",
    "    node = None\n",
    "    \n",
    "    for feature_idx in feature_ls:\n",
    "        for split_point in X_bootstrap[:,feature_idx]:\n",
    "            left_child = {'X_bootstrap': [], 'y_bootstrap': []}\n",
    "            right_child = {'X_bootstrap': [], 'y_bootstrap': []}\n",
    "\n",
    "            # split children for continuous variables\n",
    "            if type(split_point) in [int, float]:\n",
    "                for i, value in enumerate(X_bootstrap[:,feature_idx]):\n",
    "                    if value <= split_point:\n",
    "                        left_child['X_bootstrap'].append(X_bootstrap[i])\n",
    "                        left_child['y_bootstrap'].append(y_bootstrap[i])\n",
    "                    else:\n",
    "                        right_child['X_bootstrap'].append(X_bootstrap[i])\n",
    "                        right_child['y_bootstrap'].append(y_bootstrap[i])\n",
    "                        \n",
    "            # split children for categoric variables\n",
    "            else:\n",
    "                for i, value in enumerate(X_bootstrap[:,feature_idx]):\n",
    "                    if value == split_point:\n",
    "                        left_child['X_bootstrap'].append(X_bootstrap[i])\n",
    "                        left_child['y_bootstrap'].append(y_bootstrap[i])\n",
    "                    else:\n",
    "                        right_child['X_bootstrap'].append(X_bootstrap[i])\n",
    "                        right_child['y_bootstrap'].append(y_bootstrap[i])\n",
    "            \n",
    "            subsets = left_child['y_bootstrap'] + right_child['y_bootstrap']\n",
    "            gini_value = calculate_gini_index(subsets)\n",
    "            \n",
    "            if gini_value < best_gini:\n",
    "                best_gini = gini_value\n",
    "                left_child['X_bootstrap'] = np.array(left_child['X_bootstrap'])\n",
    "                right_child['X_bootstrap'] = np.array(right_child['X_bootstrap'])\n",
    "                \n",
    "                node = {'information_gain': gini_value,\n",
    "                        'left_child': left_child,\n",
    "                        'right_child': right_child,\n",
    "                        'split_point': split_point,\n",
    "                        'feature_idx': feature_idx}\n",
    "\n",
    "    return node\n",
    "\n",
    "\n",
    "def terminal_node(node):\n",
    "    y_bootstrap = node['y_bootstrap']\n",
    "    pred = max(y_bootstrap, key = y_bootstrap.count)\n",
    "    \n",
    "    return pred\n",
    "\n",
    "\n",
    "def split_node(node, max_features, min_samples_split, max_depth, depth):\n",
    "    left_child = node['left_child']\n",
    "    right_child = node['right_child']\n",
    "\n",
    "    del(node['left_child'])\n",
    "    del(node['right_child'])\n",
    "\n",
    "    if len(left_child['y_bootstrap']) == 0 or len(right_child['y_bootstrap']) == 0:\n",
    "        empty_child = {'y_bootstrap': left_child['y_bootstrap'] + right_child['y_bootstrap']}\n",
    "        node['left_split'] = terminal_node(empty_child)\n",
    "        node['right_split'] = terminal_node(empty_child)\n",
    "        return\n",
    "\n",
    "    if depth >= max_depth:\n",
    "        node['left_split'] = terminal_node(left_child)\n",
    "        node['right_split'] = terminal_node(right_child)\n",
    "        return node\n",
    "\n",
    "    if len(left_child['X_bootstrap']) <= min_samples_split:\n",
    "        node['left_split'] = node['right_split'] = terminal_node(left_child)\n",
    "        \n",
    "    else:\n",
    "        node['left_split'] = find_split_point(left_child['X_bootstrap'], left_child['y_bootstrap'], max_features)\n",
    "        split_node(node['left_split'], max_depth, min_samples_split, max_depth, depth + 1)\n",
    "        \n",
    "    if len(right_child['X_bootstrap']) <= min_samples_split:\n",
    "        node['right_split'] = node['left_split'] = terminal_node(right_child)\n",
    "        \n",
    "    else:\n",
    "        node['right_split'] = find_split_point(right_child['X_bootstrap'], right_child['y_bootstrap'], max_features)\n",
    "        split_node(node['right_split'], max_features, min_samples_split, max_depth, depth + 1)"
   ]
  },
  {
   "cell_type": "code",
   "execution_count": 15,
   "metadata": {
    "ExecuteTime": {
     "end_time": "2020-12-23T07:33:19.479331Z",
     "start_time": "2020-12-23T07:33:19.470686Z"
    }
   },
   "outputs": [],
   "source": [
    "def build_tree(X_bootstrap, y_bootstrap, max_depth, min_samples_split, max_features):\n",
    "    root_node = find_split_point(X_bootstrap, y_bootstrap, max_features)\n",
    "    split_node(root_node, max_features, min_samples_split, max_depth, 1)\n",
    "    \n",
    "    return root_node\n",
    "\n",
    "\n",
    "def random_forest(X_train, y_train, n_estimators, max_features, max_depth, min_samples_split):\n",
    "    tree_ls = list()\n",
    "    oob_ls = list()\n",
    "    for i in range(n_estimators):\n",
    "        X_bootstrap, y_bootstrap, X_oob, y_oob = draw_bootstrap(X_train, y_train)\n",
    "        tree = build_tree(X_bootstrap, y_bootstrap, max_features, max_depth, min_samples_split)\n",
    "        tree_ls.append(tree)\n",
    "        oob_error = oob_score(tree, X_oob, y_oob)\n",
    "        oob_ls.append(oob_error)\n",
    "        \n",
    "    print(\"OOB estimate: {:.2f}\".format(np.mean(oob_ls)))\n",
    "    \n",
    "    return tree_ls\n",
    "\n",
    "\n",
    "def predict_tree(tree, X_test):\n",
    "    feature_idx = tree['feature_idx']\n",
    "\n",
    "    if X_test[feature_idx] <= tree['split_point']:\n",
    "        if type(tree['left_split']) == dict:\n",
    "            return predict_tree(tree['left_split'], X_test)\n",
    "        else:\n",
    "            value = tree['left_split']\n",
    "            return value\n",
    "        \n",
    "    else:\n",
    "        if type(tree['right_split']) == dict:\n",
    "            return predict_tree(tree['right_split'], X_test)\n",
    "        \n",
    "        else:\n",
    "            return tree['right_split']\n",
    "        \n",
    "        \n",
    "def predict_rf(tree_ls, X_test):\n",
    "    pred_ls = list()\n",
    "    for i in range(len(X_test)):\n",
    "        ensemble_preds = [predict_tree(tree, X_test.values[i]) for tree in tree_ls]\n",
    "        final_pred = max(ensemble_preds, key = ensemble_preds.count)\n",
    "        pred_ls.append(final_pred)\n",
    "        \n",
    "    return np.array(pred_ls)"
   ]
  },
  {
   "cell_type": "code",
   "execution_count": 16,
   "metadata": {
    "ExecuteTime": {
     "end_time": "2020-12-23T07:34:55.839711Z",
     "start_time": "2020-12-23T07:33:28.642490Z"
    }
   },
   "outputs": [
    {
     "name": "stdout",
     "output_type": "stream",
     "text": [
      "OOB estimate: 0.49\n"
     ]
    }
   ],
   "source": [
    "n_estimators = 50\n",
    "max_features = 8\n",
    "max_depth = 10\n",
    "min_samples_split = 2\n",
    "\n",
    "model = random_forest(X_train, Y_train, n_estimators, max_features, max_depth, min_samples_split)"
   ]
  },
  {
   "cell_type": "code",
   "execution_count": 17,
   "metadata": {
    "ExecuteTime": {
     "end_time": "2020-12-23T07:34:57.792933Z",
     "start_time": "2020-12-23T07:34:57.321011Z"
    }
   },
   "outputs": [
    {
     "data": {
      "text/plain": [
       "0.532051282051282"
      ]
     },
     "execution_count": 17,
     "metadata": {},
     "output_type": "execute_result"
    }
   ],
   "source": [
    "preds = predict_rf(model, trainX)\n",
    "\n",
    "accuracy_score(trainY, preds)"
   ]
  },
  {
   "cell_type": "code",
   "execution_count": null,
   "metadata": {},
   "outputs": [],
   "source": []
  },
  {
   "cell_type": "code",
   "execution_count": null,
   "metadata": {},
   "outputs": [],
   "source": []
  },
  {
   "cell_type": "code",
   "execution_count": 24,
   "metadata": {
    "ExecuteTime": {
     "end_time": "2020-12-23T07:36:10.611408Z",
     "start_time": "2020-12-23T07:36:07.946631Z"
    }
   },
   "outputs": [
    {
     "data": {
      "text/plain": [
       "RandomForestClassifier(max_depth=8, n_jobs=-1, oob_score=True)"
      ]
     },
     "execution_count": 24,
     "metadata": {},
     "output_type": "execute_result"
    }
   ],
   "source": [
    "model2 = RandomForestClassifier(criterion=\"gini\", max_depth=8, min_samples_split=2,\n",
    "                               oob_score=True, n_jobs=-1)\n",
    "\n",
    "Y_trai = Y_train.values.reshape(len(Y_train),)\n",
    "model2.fit(X_train, Y_trai)"
   ]
  },
  {
   "cell_type": "code",
   "execution_count": 25,
   "metadata": {
    "ExecuteTime": {
     "end_time": "2020-12-23T07:36:12.365939Z",
     "start_time": "2020-12-23T07:36:12.292651Z"
    }
   },
   "outputs": [],
   "source": [
    "preds = model2.predict(X_test)"
   ]
  },
  {
   "cell_type": "code",
   "execution_count": 26,
   "metadata": {
    "ExecuteTime": {
     "end_time": "2020-12-23T07:36:14.208846Z",
     "start_time": "2020-12-23T07:36:14.201939Z"
    }
   },
   "outputs": [
    {
     "data": {
      "text/plain": [
       "0.90625"
      ]
     },
     "execution_count": 26,
     "metadata": {},
     "output_type": "execute_result"
    }
   ],
   "source": [
    "accuracy_score(Y_test, preds)"
   ]
  },
  {
   "cell_type": "code",
   "execution_count": 27,
   "metadata": {
    "ExecuteTime": {
     "end_time": "2020-12-23T07:36:17.415829Z",
     "start_time": "2020-12-23T07:36:17.407216Z"
    }
   },
   "outputs": [
    {
     "data": {
      "text/plain": [
       "{'bootstrap': True,\n",
       " 'ccp_alpha': 0.0,\n",
       " 'class_weight': None,\n",
       " 'criterion': 'gini',\n",
       " 'max_depth': 8,\n",
       " 'max_features': 'auto',\n",
       " 'max_leaf_nodes': None,\n",
       " 'max_samples': None,\n",
       " 'min_impurity_decrease': 0.0,\n",
       " 'min_impurity_split': None,\n",
       " 'min_samples_leaf': 1,\n",
       " 'min_samples_split': 2,\n",
       " 'min_weight_fraction_leaf': 0.0,\n",
       " 'n_estimators': 100,\n",
       " 'n_jobs': -1,\n",
       " 'oob_score': True,\n",
       " 'random_state': None,\n",
       " 'verbose': 0,\n",
       " 'warm_start': False}"
      ]
     },
     "execution_count": 27,
     "metadata": {},
     "output_type": "execute_result"
    }
   ],
   "source": [
    "model2.get_params()"
   ]
  },
  {
   "cell_type": "code",
   "execution_count": 28,
   "metadata": {
    "ExecuteTime": {
     "end_time": "2020-12-23T07:36:19.442810Z",
     "start_time": "2020-12-23T07:36:19.200126Z"
    }
   },
   "outputs": [
    {
     "data": {
      "text/plain": [
       "RandomForestClassifier(bootstrap=False)"
      ]
     },
     "execution_count": 28,
     "metadata": {},
     "output_type": "execute_result"
    }
   ],
   "source": [
    "model3 = RandomForestClassifier(bootstrap=False)\n",
    "\n",
    "Y_trai = Y_train.values.reshape(len(Y_train),)\n",
    "model3.fit(X_train, Y_trai)"
   ]
  },
  {
   "cell_type": "code",
   "execution_count": 29,
   "metadata": {
    "ExecuteTime": {
     "end_time": "2020-12-23T07:36:21.092395Z",
     "start_time": "2020-12-23T07:36:21.064795Z"
    }
   },
   "outputs": [
    {
     "data": {
      "text/plain": [
       "0.75"
      ]
     },
     "execution_count": 29,
     "metadata": {},
     "output_type": "execute_result"
    }
   ],
   "source": [
    "preds = model3.predict(X_test)\n",
    "accuracy_score(Y_test, preds)"
   ]
  },
  {
   "cell_type": "code",
   "execution_count": 31,
   "metadata": {
    "ExecuteTime": {
     "end_time": "2020-12-23T07:36:26.535970Z",
     "start_time": "2020-12-23T07:36:26.102252Z"
    }
   },
   "outputs": [],
   "source": [
    "pickle.dump(model3, open(\"MODEL_FILE.sav\", \"wb\"))"
   ]
  },
  {
   "cell_type": "code",
   "execution_count": null,
   "metadata": {},
   "outputs": [],
   "source": []
  },
  {
   "cell_type": "code",
   "execution_count": null,
   "metadata": {},
   "outputs": [],
   "source": []
  },
  {
   "cell_type": "code",
   "execution_count": 32,
   "metadata": {
    "ExecuteTime": {
     "end_time": "2020-12-23T07:36:29.228845Z",
     "start_time": "2020-12-23T07:36:29.210505Z"
    }
   },
   "outputs": [],
   "source": [
    "import pickle\n",
    "k = pickle.load(open(\"MODEL_FILE.sav\",\"rb\"))"
   ]
  },
  {
   "cell_type": "code",
   "execution_count": 36,
   "metadata": {
    "ExecuteTime": {
     "end_time": "2020-12-23T07:37:49.944656Z",
     "start_time": "2020-12-23T07:37:49.860923Z"
    },
    "scrolled": true
   },
   "outputs": [],
   "source": [
    "test_X = np.genfromtxt(\"./train_X_rf.csv\", delimiter=',', dtype=np.float64, skip_header=1)\n",
    "test_Y = np.genfromtxt(\"./train_Y_rf.csv\", delimiter=\",\", dtype=np.float64)\n",
    "pred = k.predict(test_X)"
   ]
  },
  {
   "cell_type": "code",
   "execution_count": 37,
   "metadata": {
    "ExecuteTime": {
     "end_time": "2020-12-23T07:37:51.607727Z",
     "start_time": "2020-12-23T07:37:51.599069Z"
    }
   },
   "outputs": [
    {
     "data": {
      "text/plain": [
       "0.9487179487179487"
      ]
     },
     "execution_count": 37,
     "metadata": {},
     "output_type": "execute_result"
    }
   ],
   "source": [
    "accuracy_score(test_Y, pred)"
   ]
  },
  {
   "cell_type": "code",
   "execution_count": 19,
   "metadata": {
    "ExecuteTime": {
     "end_time": "2020-12-23T07:35:18.499679Z",
     "start_time": "2020-12-23T07:35:18.488824Z"
    }
   },
   "outputs": [
    {
     "data": {
      "text/plain": [
       "['.ipynb_checkpoints',\n",
       " '.virtual_documents',\n",
       " 'algorithm.py',\n",
       " 'MODEL_FILE.sav',\n",
       " 'predict.py',\n",
       " 'README.md',\n",
       " 'train_X_rf.csv',\n",
       " 'train_Y_rf.csv',\n",
       " 'Untitled.ipynb',\n",
       " 'validate.py',\n",
       " '__pycache__']"
      ]
     },
     "execution_count": 19,
     "metadata": {},
     "output_type": "execute_result"
    }
   ],
   "source": [
    "import os\n",
    "os.listdir()"
   ]
  },
  {
   "cell_type": "code",
   "execution_count": null,
   "metadata": {},
   "outputs": [],
   "source": []
  }
 ],
 "metadata": {
  "kernelspec": {
   "display_name": "Python 3",
   "language": "python",
   "name": "python3"
  },
  "language_info": {
   "codemirror_mode": {
    "name": "ipython",
    "version": 3
   },
   "file_extension": ".py",
   "mimetype": "text/x-python",
   "name": "python",
   "nbconvert_exporter": "python",
   "pygments_lexer": "ipython3",
   "version": "3.8.5"
  },
  "varInspector": {
   "cols": {
    "lenName": 16,
    "lenType": 16,
    "lenVar": 40
   },
   "kernels_config": {
    "python": {
     "delete_cmd_postfix": "",
     "delete_cmd_prefix": "del ",
     "library": "var_list.py",
     "varRefreshCmd": "print(var_dic_list())"
    },
    "r": {
     "delete_cmd_postfix": ") ",
     "delete_cmd_prefix": "rm(",
     "library": "var_list.r",
     "varRefreshCmd": "cat(var_dic_list()) "
    }
   },
   "types_to_exclude": [
    "module",
    "function",
    "builtin_function_or_method",
    "instance",
    "_Feature"
   ],
   "window_display": false
  }
 },
 "nbformat": 4,
 "nbformat_minor": 4
}
