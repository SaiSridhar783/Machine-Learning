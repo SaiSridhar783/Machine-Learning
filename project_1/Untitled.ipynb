{
 "cells": [
  {
   "cell_type": "code",
   "execution_count": 1,
   "metadata": {
    "ExecuteTime": {
     "end_time": "2021-01-04T12:39:48.574639Z",
     "start_time": "2021-01-04T12:39:46.739057Z"
    }
   },
   "outputs": [],
   "source": [
    "import numpy as np\n",
    "import pandas as pd\n",
    "import matplotlib.pyplot as plt\n",
    "import seaborn as sns\n",
    "import os\n",
    "\n",
    "from sklearn.model_selection import train_test_split\n",
    "from sklearn.preprocessing import StandardScaler, OrdinalEncoder\n",
    "from sklearn.ensemble import RandomForestClassifier, AdaBoostClassifier, StackingClassifier\n",
    "from sklearn.naive_bayes import GaussianNB\n",
    "from sklearn.svm import SVC\n",
    "from sklearn.tree import DecisionTreeClassifier\n",
    "from sklearn.metrics import accuracy_score\n",
    "from sklearn.linear_model import LinearRegression, LogisticRegression\n",
    "from sklearn.neighbors import KNeighborsClassifier\n",
    "\n",
    "plt.style.use(\"seaborn\")"
   ]
  },
  {
   "cell_type": "code",
   "execution_count": 2,
   "metadata": {
    "ExecuteTime": {
     "end_time": "2021-01-04T12:39:48.803792Z",
     "start_time": "2021-01-04T12:39:48.785294Z"
    }
   },
   "outputs": [],
   "source": [
    "X = pd.read_csv(\"./train_X_p1.csv\")\n",
    "Y = pd.read_csv(\"./train_Y_p1.csv\", header=None)"
   ]
  },
  {
   "cell_type": "code",
   "execution_count": 3,
   "metadata": {
    "ExecuteTime": {
     "end_time": "2021-01-04T12:39:50.076546Z",
     "start_time": "2021-01-04T12:39:49.027607Z"
    }
   },
   "outputs": [
    {
     "data": {
      "text/html": [
       "<div>\n",
       "<style scoped>\n",
       "    .dataframe tbody tr th:only-of-type {\n",
       "        vertical-align: middle;\n",
       "    }\n",
       "\n",
       "    .dataframe tbody tr th {\n",
       "        vertical-align: top;\n",
       "    }\n",
       "\n",
       "    .dataframe thead th {\n",
       "        text-align: right;\n",
       "    }\n",
       "</style>\n",
       "<table border=\"1\" class=\"dataframe\">\n",
       "  <thead>\n",
       "    <tr style=\"text-align: right;\">\n",
       "      <th></th>\n",
       "      <th>Student ID</th>\n",
       "      <th>University ranking</th>\n",
       "      <th>Student's University dropout rate</th>\n",
       "      <th>SOP rating</th>\n",
       "      <th>CGPA</th>\n",
       "      <th>ZIP Code</th>\n",
       "      <th>GRE</th>\n",
       "      <th>Employed</th>\n",
       "      <th>Strong LOR</th>\n",
       "      <th>Have non academic activities</th>\n",
       "      <th>Been abroad</th>\n",
       "    </tr>\n",
       "  </thead>\n",
       "  <tbody>\n",
       "    <tr>\n",
       "      <th>Student ID</th>\n",
       "      <td>1.000000</td>\n",
       "      <td>-0.003105</td>\n",
       "      <td>-0.003818</td>\n",
       "      <td>0.006704</td>\n",
       "      <td>-0.013386</td>\n",
       "      <td>0.022182</td>\n",
       "      <td>-0.027276</td>\n",
       "      <td>0.011875</td>\n",
       "      <td>-0.014700</td>\n",
       "      <td>-0.017026</td>\n",
       "      <td>0.009724</td>\n",
       "    </tr>\n",
       "    <tr>\n",
       "      <th>University ranking</th>\n",
       "      <td>-0.003105</td>\n",
       "      <td>1.000000</td>\n",
       "      <td>0.994116</td>\n",
       "      <td>0.006379</td>\n",
       "      <td>-0.046847</td>\n",
       "      <td>-0.034240</td>\n",
       "      <td>-0.057153</td>\n",
       "      <td>0.003063</td>\n",
       "      <td>0.009401</td>\n",
       "      <td>-0.004329</td>\n",
       "      <td>0.011988</td>\n",
       "    </tr>\n",
       "    <tr>\n",
       "      <th>Student's University dropout rate</th>\n",
       "      <td>-0.003818</td>\n",
       "      <td>0.994116</td>\n",
       "      <td>1.000000</td>\n",
       "      <td>0.034219</td>\n",
       "      <td>-0.057881</td>\n",
       "      <td>-0.034816</td>\n",
       "      <td>-0.061246</td>\n",
       "      <td>0.001947</td>\n",
       "      <td>0.006459</td>\n",
       "      <td>-0.003808</td>\n",
       "      <td>0.011976</td>\n",
       "    </tr>\n",
       "    <tr>\n",
       "      <th>SOP rating</th>\n",
       "      <td>0.006704</td>\n",
       "      <td>0.006379</td>\n",
       "      <td>0.034219</td>\n",
       "      <td>1.000000</td>\n",
       "      <td>-0.192791</td>\n",
       "      <td>-0.011130</td>\n",
       "      <td>-0.144157</td>\n",
       "      <td>-0.006577</td>\n",
       "      <td>0.020500</td>\n",
       "      <td>-0.016318</td>\n",
       "      <td>-0.012792</td>\n",
       "    </tr>\n",
       "    <tr>\n",
       "      <th>CGPA</th>\n",
       "      <td>-0.013386</td>\n",
       "      <td>-0.046847</td>\n",
       "      <td>-0.057881</td>\n",
       "      <td>-0.192791</td>\n",
       "      <td>1.000000</td>\n",
       "      <td>-0.022591</td>\n",
       "      <td>0.639438</td>\n",
       "      <td>-0.015288</td>\n",
       "      <td>0.159691</td>\n",
       "      <td>0.000734</td>\n",
       "      <td>0.013229</td>\n",
       "    </tr>\n",
       "    <tr>\n",
       "      <th>ZIP Code</th>\n",
       "      <td>0.022182</td>\n",
       "      <td>-0.034240</td>\n",
       "      <td>-0.034816</td>\n",
       "      <td>-0.011130</td>\n",
       "      <td>-0.022591</td>\n",
       "      <td>1.000000</td>\n",
       "      <td>-0.008149</td>\n",
       "      <td>0.008045</td>\n",
       "      <td>0.022321</td>\n",
       "      <td>0.007197</td>\n",
       "      <td>0.018058</td>\n",
       "    </tr>\n",
       "    <tr>\n",
       "      <th>GRE</th>\n",
       "      <td>-0.027276</td>\n",
       "      <td>-0.057153</td>\n",
       "      <td>-0.061246</td>\n",
       "      <td>-0.144157</td>\n",
       "      <td>0.639438</td>\n",
       "      <td>-0.008149</td>\n",
       "      <td>1.000000</td>\n",
       "      <td>-0.011290</td>\n",
       "      <td>0.117897</td>\n",
       "      <td>0.012409</td>\n",
       "      <td>-0.005405</td>\n",
       "    </tr>\n",
       "    <tr>\n",
       "      <th>Employed</th>\n",
       "      <td>0.011875</td>\n",
       "      <td>0.003063</td>\n",
       "      <td>0.001947</td>\n",
       "      <td>-0.006577</td>\n",
       "      <td>-0.015288</td>\n",
       "      <td>0.008045</td>\n",
       "      <td>-0.011290</td>\n",
       "      <td>1.000000</td>\n",
       "      <td>0.272358</td>\n",
       "      <td>-0.004495</td>\n",
       "      <td>0.009837</td>\n",
       "    </tr>\n",
       "    <tr>\n",
       "      <th>Strong LOR</th>\n",
       "      <td>-0.014700</td>\n",
       "      <td>0.009401</td>\n",
       "      <td>0.006459</td>\n",
       "      <td>0.020500</td>\n",
       "      <td>0.159691</td>\n",
       "      <td>0.022321</td>\n",
       "      <td>0.117897</td>\n",
       "      <td>0.272358</td>\n",
       "      <td>1.000000</td>\n",
       "      <td>0.329980</td>\n",
       "      <td>0.171183</td>\n",
       "    </tr>\n",
       "    <tr>\n",
       "      <th>Have non academic activities</th>\n",
       "      <td>-0.017026</td>\n",
       "      <td>-0.004329</td>\n",
       "      <td>-0.003808</td>\n",
       "      <td>-0.016318</td>\n",
       "      <td>0.000734</td>\n",
       "      <td>0.007197</td>\n",
       "      <td>0.012409</td>\n",
       "      <td>-0.004495</td>\n",
       "      <td>0.329980</td>\n",
       "      <td>1.000000</td>\n",
       "      <td>0.005100</td>\n",
       "    </tr>\n",
       "    <tr>\n",
       "      <th>Been abroad</th>\n",
       "      <td>0.009724</td>\n",
       "      <td>0.011988</td>\n",
       "      <td>0.011976</td>\n",
       "      <td>-0.012792</td>\n",
       "      <td>0.013229</td>\n",
       "      <td>0.018058</td>\n",
       "      <td>-0.005405</td>\n",
       "      <td>0.009837</td>\n",
       "      <td>0.171183</td>\n",
       "      <td>0.005100</td>\n",
       "      <td>1.000000</td>\n",
       "    </tr>\n",
       "  </tbody>\n",
       "</table>\n",
       "</div>"
      ],
      "text/plain": [
       "                                   Student ID  University ranking  \\\n",
       "Student ID                           1.000000           -0.003105   \n",
       "University ranking                  -0.003105            1.000000   \n",
       "Student's University dropout rate   -0.003818            0.994116   \n",
       "SOP rating                           0.006704            0.006379   \n",
       "CGPA                                -0.013386           -0.046847   \n",
       "ZIP Code                             0.022182           -0.034240   \n",
       "GRE                                 -0.027276           -0.057153   \n",
       "Employed                             0.011875            0.003063   \n",
       "Strong LOR                          -0.014700            0.009401   \n",
       "Have non academic activities        -0.017026           -0.004329   \n",
       "Been abroad                          0.009724            0.011988   \n",
       "\n",
       "                                   Student's University dropout rate  \\\n",
       "Student ID                                                 -0.003818   \n",
       "University ranking                                          0.994116   \n",
       "Student's University dropout rate                           1.000000   \n",
       "SOP rating                                                  0.034219   \n",
       "CGPA                                                       -0.057881   \n",
       "ZIP Code                                                   -0.034816   \n",
       "GRE                                                        -0.061246   \n",
       "Employed                                                    0.001947   \n",
       "Strong LOR                                                  0.006459   \n",
       "Have non academic activities                               -0.003808   \n",
       "Been abroad                                                 0.011976   \n",
       "\n",
       "                                   SOP rating      CGPA  ZIP Code       GRE  \\\n",
       "Student ID                           0.006704 -0.013386  0.022182 -0.027276   \n",
       "University ranking                   0.006379 -0.046847 -0.034240 -0.057153   \n",
       "Student's University dropout rate    0.034219 -0.057881 -0.034816 -0.061246   \n",
       "SOP rating                           1.000000 -0.192791 -0.011130 -0.144157   \n",
       "CGPA                                -0.192791  1.000000 -0.022591  0.639438   \n",
       "ZIP Code                            -0.011130 -0.022591  1.000000 -0.008149   \n",
       "GRE                                 -0.144157  0.639438 -0.008149  1.000000   \n",
       "Employed                            -0.006577 -0.015288  0.008045 -0.011290   \n",
       "Strong LOR                           0.020500  0.159691  0.022321  0.117897   \n",
       "Have non academic activities        -0.016318  0.000734  0.007197  0.012409   \n",
       "Been abroad                         -0.012792  0.013229  0.018058 -0.005405   \n",
       "\n",
       "                                   Employed  Strong LOR  \\\n",
       "Student ID                         0.011875   -0.014700   \n",
       "University ranking                 0.003063    0.009401   \n",
       "Student's University dropout rate  0.001947    0.006459   \n",
       "SOP rating                        -0.006577    0.020500   \n",
       "CGPA                              -0.015288    0.159691   \n",
       "ZIP Code                           0.008045    0.022321   \n",
       "GRE                               -0.011290    0.117897   \n",
       "Employed                           1.000000    0.272358   \n",
       "Strong LOR                         0.272358    1.000000   \n",
       "Have non academic activities      -0.004495    0.329980   \n",
       "Been abroad                        0.009837    0.171183   \n",
       "\n",
       "                                   Have non academic activities  Been abroad  \n",
       "Student ID                                            -0.017026     0.009724  \n",
       "University ranking                                    -0.004329     0.011988  \n",
       "Student's University dropout rate                     -0.003808     0.011976  \n",
       "SOP rating                                            -0.016318    -0.012792  \n",
       "CGPA                                                   0.000734     0.013229  \n",
       "ZIP Code                                               0.007197     0.018058  \n",
       "GRE                                                    0.012409    -0.005405  \n",
       "Employed                                              -0.004495     0.009837  \n",
       "Strong LOR                                             0.329980     0.171183  \n",
       "Have non academic activities                           1.000000     0.005100  \n",
       "Been abroad                                            0.005100     1.000000  "
      ]
     },
     "execution_count": 3,
     "metadata": {},
     "output_type": "execute_result"
    }
   ],
   "source": [
    "X.corr()"
   ]
  },
  {
   "cell_type": "code",
   "execution_count": 4,
   "metadata": {
    "ExecuteTime": {
     "end_time": "2021-01-04T12:39:51.619811Z",
     "start_time": "2021-01-04T12:39:50.093674Z"
    }
   },
   "outputs": [
    {
     "data": {
      "text/plain": [
       "<matplotlib.collections.PathCollection at 0x7f3976b08df0>"
      ]
     },
     "execution_count": 4,
     "metadata": {},
     "output_type": "execute_result"
    },
    {
     "data": {
      "image/png": "[encoded data removed]",
      "text/plain": [
       "<Figure size 576x396 with 1 Axes>"
      ]
     },
     "metadata": {},
     "output_type": "display_data"
    }
   ],
   "source": [
    "plt.scatter(X[\"University ranking\"], X[\"Student\\'s University dropout rate\"])"
   ]
  },
  {
   "cell_type": "code",
   "execution_count": null,
   "metadata": {},
   "outputs": [],
   "source": []
  },
  {
   "cell_type": "code",
   "execution_count": null,
   "metadata": {},
   "outputs": [],
   "source": []
  },
  {
   "cell_type": "code",
   "execution_count": null,
   "metadata": {},
   "outputs": [],
   "source": []
  },
  {
   "cell_type": "code",
   "execution_count": null,
   "metadata": {},
   "outputs": [],
   "source": []
  },
  {
   "cell_type": "code",
   "execution_count": null,
   "metadata": {},
   "outputs": [],
   "source": []
  },
  {
   "cell_type": "code",
   "execution_count": null,
   "metadata": {},
   "outputs": [],
   "source": []
  },
  {
   "cell_type": "code",
   "execution_count": 6,
   "metadata": {
    "ExecuteTime": {
     "end_time": "2021-01-04T12:40:30.083661Z",
     "start_time": "2021-01-04T12:40:30.080134Z"
    }
   },
   "outputs": [],
   "source": [
    "truth = [False, True, True, True, True, False, True, True, True, True, True]\n",
    "scale = [2,4,6]\n",
    "num = int(11**0.5)"
   ]
  },
  {
   "cell_type": "code",
   "execution_count": 7,
   "metadata": {
    "ExecuteTime": {
     "end_time": "2021-01-04T12:40:30.261783Z",
     "start_time": "2021-01-04T12:40:30.258301Z"
    }
   },
   "outputs": [],
   "source": [
    "scaler = StandardScaler()\n",
    "ordinal = OrdinalEncoder()\n",
    "\n",
    "columns = X.columns"
   ]
  },
  {
   "cell_type": "code",
   "execution_count": null,
   "metadata": {},
   "outputs": [],
   "source": []
  },
  {
   "cell_type": "code",
   "execution_count": 8,
   "metadata": {
    "ExecuteTime": {
     "end_time": "2021-01-04T12:40:30.620234Z",
     "start_time": "2021-01-04T12:40:30.612378Z"
    }
   },
   "outputs": [],
   "source": [
    "for i in columns[scale]:\n",
    "    k = scaler.fit_transform(X[i].values.reshape(len(X[i]),1))\n",
    "    X[i] = k\n",
    "    \n",
    "X = X[columns[truth]]"
   ]
  },
  {
   "cell_type": "code",
   "execution_count": null,
   "metadata": {
    "ExecuteTime": {
     "end_time": "2020-12-30T09:43:20.884907Z",
     "start_time": "2020-12-30T09:43:20.865701Z"
    }
   },
   "outputs": [],
   "source": []
  },
  {
   "cell_type": "code",
   "execution_count": null,
   "metadata": {},
   "outputs": [],
   "source": []
  },
  {
   "cell_type": "code",
   "execution_count": null,
   "metadata": {},
   "outputs": [],
   "source": []
  },
  {
   "cell_type": "code",
   "execution_count": 9,
   "metadata": {
    "ExecuteTime": {
     "end_time": "2021-01-04T12:40:33.103659Z",
     "start_time": "2021-01-04T12:40:33.066776Z"
    }
   },
   "outputs": [],
   "source": [
    "trainX, testX, trainY, testY = train_test_split(X, Y, test_size=0.2, random_state=0)"
   ]
  },
  {
   "cell_type": "code",
   "execution_count": null,
   "metadata": {
    "ExecuteTime": {
     "end_time": "2020-12-30T09:25:27.919074Z",
     "start_time": "2020-12-30T09:25:27.854163Z"
    }
   },
   "outputs": [],
   "source": []
  },
  {
   "cell_type": "code",
   "execution_count": 10,
   "metadata": {
    "ExecuteTime": {
     "end_time": "2021-01-04T12:40:34.729067Z",
     "start_time": "2021-01-04T12:40:34.725396Z"
    }
   },
   "outputs": [],
   "source": [
    "svm = SVC()\n",
    "nb = GaussianNB()\n",
    "rf = RandomForestClassifier(max_depth=5, max_features=num, n_jobs=4)\n",
    "dt = DecisionTreeClassifier(max_depth=8)\n",
    "knn = KNeighborsClassifier()"
   ]
  },
  {
   "cell_type": "code",
   "execution_count": 11,
   "metadata": {
    "ExecuteTime": {
     "end_time": "2021-01-04T12:40:35.080324Z",
     "start_time": "2021-01-04T12:40:35.045621Z"
    }
   },
   "outputs": [
    {
     "data": {
      "text/plain": [
       "0.94375"
      ]
     },
     "execution_count": 11,
     "metadata": {},
     "output_type": "execute_result"
    }
   ],
   "source": [
    "knn.fit(trainX, np.ravel(trainY))\n",
    "pred = knn.predict(testX)\n",
    "accuracy_score(testY, pred)"
   ]
  },
  {
   "cell_type": "code",
   "execution_count": 12,
   "metadata": {
    "ExecuteTime": {
     "end_time": "2021-01-04T12:40:35.679590Z",
     "start_time": "2021-01-04T12:40:35.669177Z"
    }
   },
   "outputs": [
    {
     "data": {
      "text/plain": [
       "0.8975"
      ]
     },
     "execution_count": 12,
     "metadata": {},
     "output_type": "execute_result"
    }
   ],
   "source": [
    "nb.fit(trainX, np.ravel(trainY))\n",
    "pred = nb.predict(testX)\n",
    "accuracy_score(testY, pred)"
   ]
  },
  {
   "cell_type": "code",
   "execution_count": 13,
   "metadata": {
    "ExecuteTime": {
     "end_time": "2021-01-04T12:40:37.076985Z",
     "start_time": "2021-01-04T12:40:36.987260Z"
    }
   },
   "outputs": [
    {
     "data": {
      "text/plain": [
       "0.91375"
      ]
     },
     "execution_count": 13,
     "metadata": {},
     "output_type": "execute_result"
    }
   ],
   "source": [
    "svm.fit(trainX, np.ravel(trainY))\n",
    "pred = svm.predict(testX)\n",
    "accuracy_score(testY, pred)"
   ]
  },
  {
   "cell_type": "code",
   "execution_count": 14,
   "metadata": {
    "ExecuteTime": {
     "end_time": "2021-01-04T12:40:38.300145Z",
     "start_time": "2021-01-04T12:40:37.816026Z"
    }
   },
   "outputs": [
    {
     "data": {
      "text/plain": [
       "0.97625"
      ]
     },
     "execution_count": 14,
     "metadata": {},
     "output_type": "execute_result"
    }
   ],
   "source": [
    "rf.fit(trainX, np.ravel(trainY))\n",
    "pred = rf.predict(testX)\n",
    "accuracy_score(testY, pred)"
   ]
  },
  {
   "cell_type": "code",
   "execution_count": 15,
   "metadata": {
    "ExecuteTime": {
     "end_time": "2021-01-04T12:40:58.413696Z",
     "start_time": "2021-01-04T12:40:39.824817Z"
    }
   },
   "outputs": [
    {
     "data": {
      "text/plain": [
       "0.9725"
      ]
     },
     "execution_count": 15,
     "metadata": {},
     "output_type": "execute_result"
    }
   ],
   "source": [
    "abc = AdaBoostClassifier(base_estimator=rf, n_estimators=50, learning_rate=1.0)\n",
    "abc.fit(trainX, np.ravel(trainY))\n",
    "pred = abc.predict(testX)\n",
    "accuracy_score(testY, pred)"
   ]
  },
  {
   "cell_type": "code",
   "execution_count": 16,
   "metadata": {
    "ExecuteTime": {
     "end_time": "2021-01-04T12:40:58.454171Z",
     "start_time": "2021-01-04T12:40:58.444911Z"
    }
   },
   "outputs": [
    {
     "data": {
      "text/plain": [
       "0.96875"
      ]
     },
     "execution_count": 16,
     "metadata": {},
     "output_type": "execute_result"
    }
   ],
   "source": [
    "dt.fit(trainX, np.ravel(trainY))\n",
    "pred = dt.predict(testX)\n",
    "accuracy_score(testY, pred)"
   ]
  },
  {
   "cell_type": "code",
   "execution_count": 17,
   "metadata": {
    "ExecuteTime": {
     "end_time": "2021-01-04T12:40:59.355282Z",
     "start_time": "2021-01-04T12:40:58.487533Z"
    }
   },
   "outputs": [
    {
     "data": {
      "text/plain": [
       "0.975"
      ]
     },
     "execution_count": 17,
     "metadata": {},
     "output_type": "execute_result"
    }
   ],
   "source": [
    "abc = AdaBoostClassifier(base_estimator=dt, n_estimators=100, learning_rate=1.0)\n",
    "abc.fit(trainX, np.ravel(trainY))\n",
    "pred = abc.predict(testX)\n",
    "accuracy_score(testY, pred)"
   ]
  },
  {
   "cell_type": "code",
   "execution_count": null,
   "metadata": {},
   "outputs": [],
   "source": []
  },
  {
   "cell_type": "code",
   "execution_count": 18,
   "metadata": {
    "ExecuteTime": {
     "end_time": "2021-01-04T12:41:39.367637Z",
     "start_time": "2021-01-04T12:41:39.363436Z"
    }
   },
   "outputs": [],
   "source": [
    "# get a stacking ensemble of models\n",
    "def get_stacking():\n",
    "    # define the base models\n",
    "    level0 = list()\n",
    "    level0.append(('rf', RandomForestClassifier(max_depth=8, max_features=num, n_jobs=4)))\n",
    "    level0.append(('knn', KNeighborsClassifier()))\n",
    "    level0.append(('dt', DecisionTreeClassifier(max_depth=8)))\n",
    "    level0.append(('svm', SVC()))\n",
    "    level0.append(('nb', GaussianNB()))\n",
    "    # define meta learner model\n",
    "    level1 = LogisticRegression()\n",
    "    # define the stacking ensemble\n",
    "    model = StackingClassifier(estimators=level0, final_estimator=level1, cv=5)\n",
    "    return model\n"
   ]
  },
  {
   "cell_type": "code",
   "execution_count": 19,
   "metadata": {
    "ExecuteTime": {
     "end_time": "2021-01-04T12:41:41.752891Z",
     "start_time": "2021-01-04T12:41:41.749968Z"
    }
   },
   "outputs": [],
   "source": [
    "model = get_stacking()"
   ]
  },
  {
   "cell_type": "code",
   "execution_count": 20,
   "metadata": {
    "ExecuteTime": {
     "end_time": "2021-01-04T12:41:46.516740Z",
     "start_time": "2021-01-04T12:41:43.908705Z"
    }
   },
   "outputs": [
    {
     "data": {
      "text/plain": [
       "StackingClassifier(cv=5,\n",
       "                   estimators=[('rf',\n",
       "                                RandomForestClassifier(max_depth=8,\n",
       "                                                       max_features=3,\n",
       "                                                       n_jobs=4)),\n",
       "                               ('knn', KNeighborsClassifier()),\n",
       "                               ('dt', DecisionTreeClassifier(max_depth=8)),\n",
       "                               ('svm', SVC()), ('nb', GaussianNB())],\n",
       "                   final_estimator=LogisticRegression())"
      ]
     },
     "execution_count": 20,
     "metadata": {},
     "output_type": "execute_result"
    }
   ],
   "source": [
    "model.fit(trainX, np.ravel(trainY))"
   ]
  },
  {
   "cell_type": "code",
   "execution_count": 21,
   "metadata": {
    "ExecuteTime": {
     "end_time": "2021-01-04T12:41:46.647561Z",
     "start_time": "2021-01-04T12:41:46.556221Z"
    }
   },
   "outputs": [
    {
     "data": {
      "text/plain": [
       "0.97375"
      ]
     },
     "execution_count": 21,
     "metadata": {},
     "output_type": "execute_result"
    }
   ],
   "source": [
    "pred = model.predict(testX)\n",
    "accuracy_score(testY, pred)"
   ]
  },
  {
   "cell_type": "code",
   "execution_count": 22,
   "metadata": {
    "ExecuteTime": {
     "end_time": "2021-01-04T12:41:50.879465Z",
     "start_time": "2021-01-04T12:41:50.801522Z"
    }
   },
   "outputs": [],
   "source": [
    "import pickle\n",
    "\n",
    "pickle.dump(model, open(\"MODEL_FILE.sav\",\"wb\"))"
   ]
  },
  {
   "cell_type": "code",
   "execution_count": null,
   "metadata": {},
   "outputs": [],
   "source": []
  },
  {
   "cell_type": "code",
   "execution_count": null,
   "metadata": {},
   "outputs": [],
   "source": []
  },
  {
   "cell_type": "code",
   "execution_count": null,
   "metadata": {},
   "outputs": [],
   "source": []
  },
  {
   "cell_type": "code",
   "execution_count": null,
   "metadata": {
    "ExecuteTime": {
     "end_time": "2020-12-30T11:41:12.880140Z",
     "start_time": "2020-12-30T11:41:12.859668Z"
    }
   },
   "outputs": [],
   "source": []
  },
  {
   "cell_type": "code",
   "execution_count": 29,
   "metadata": {
    "ExecuteTime": {
     "end_time": "2021-01-04T12:42:22.315853Z",
     "start_time": "2021-01-04T12:42:22.273168Z"
    }
   },
   "outputs": [],
   "source": [
    "import numpy as np\n",
    "import pandas as pd\n",
    "import matplotlib.pyplot as plt\n",
    "import seaborn as sns\n",
    "import os\n",
    "import pickle\n",
    "\n",
    "model = pickle.load(open(\"MODEL_FILE.sav\",\"rb\"))\n",
    "\n",
    "from sklearn.model_selection import train_test_split\n",
    "from sklearn.preprocessing import StandardScaler, OrdinalEncoder\n",
    "from sklearn.ensemble import RandomForestClassifier, AdaBoostClassifier, StackingClassifier\n",
    "from sklearn.naive_bayes import GaussianNB\n",
    "from sklearn.svm import SVC\n",
    "from sklearn.tree import DecisionTreeClassifier\n",
    "from sklearn.metrics import accuracy_score\n",
    "from sklearn.linear_model import LinearRegression, LogisticRegression\n",
    "from sklearn.neighbors import KNeighborsClassifier\n",
    "\n",
    "truth = [False, True, True, True, True, False, True, True, True, True, True]\n",
    "scale = [2,4,6]\n",
    "trans = [5]\n",
    "num = int(11**0.5)\n",
    "\n",
    "X = pd.read_csv(\"./train_X_p1.csv\")\n",
    "Y = pd.read_csv(\"./train_Y_p1.csv\", header=None)\n",
    "\n",
    "scaler = StandardScaler()\n",
    "ordinal = OrdinalEncoder()\n",
    "columns = X.columns\n",
    "\n",
    "def preprocess_data(file):\n",
    "        \n",
    "    for i in columns[scale]:\n",
    "        k = scaler.fit(X[i].values.reshape(len(X[i]),1))\n",
    "        l = k.transform(file[i].values.reshape(len(file[i]),1))\n",
    "        file[i] = l\n",
    "        \n",
    "    return file[columns[truth]]"
   ]
  },
  {
   "cell_type": "code",
   "execution_count": 30,
   "metadata": {
    "ExecuteTime": {
     "end_time": "2021-01-04T12:42:22.651137Z",
     "start_time": "2021-01-04T12:42:22.419505Z"
    }
   },
   "outputs": [],
   "source": [
    "test_X = preprocess_data(X)"
   ]
  },
  {
   "cell_type": "code",
   "execution_count": 31,
   "metadata": {
    "ExecuteTime": {
     "end_time": "2021-01-04T12:42:22.902841Z",
     "start_time": "2021-01-04T12:42:22.696704Z"
    }
   },
   "outputs": [],
   "source": [
    "\n",
    "pred = model.predict(test_X)"
   ]
  },
  {
   "cell_type": "code",
   "execution_count": 32,
   "metadata": {
    "ExecuteTime": {
     "end_time": "2021-01-04T12:42:22.992618Z",
     "start_time": "2021-01-04T12:42:22.986048Z"
    }
   },
   "outputs": [
    {
     "data": {
      "text/plain": [
       "0.983"
      ]
     },
     "execution_count": 32,
     "metadata": {},
     "output_type": "execute_result"
    }
   ],
   "source": [
    "accuracy_score(Y, pred)"
   ]
  },
  {
   "cell_type": "code",
   "execution_count": 33,
   "metadata": {
    "ExecuteTime": {
     "end_time": "2021-01-04T12:43:10.164814Z",
     "start_time": "2021-01-04T12:43:10.161495Z"
    }
   },
   "outputs": [],
   "source": [
    "from matplotlib.animation import writers"
   ]
  },
  {
   "cell_type": "code",
   "execution_count": 34,
   "metadata": {
    "ExecuteTime": {
     "end_time": "2021-01-04T12:43:17.502018Z",
     "start_time": "2021-01-04T12:43:17.496825Z"
    }
   },
   "outputs": [
    {
     "data": {
      "text/plain": [
       "['__class__',\n",
       " '__delattr__',\n",
       " '__dict__',\n",
       " '__dir__',\n",
       " '__doc__',\n",
       " '__eq__',\n",
       " '__format__',\n",
       " '__ge__',\n",
       " '__getattribute__',\n",
       " '__getitem__',\n",
       " '__gt__',\n",
       " '__hash__',\n",
       " '__init__',\n",
       " '__init_subclass__',\n",
       " '__iter__',\n",
       " '__le__',\n",
       " '__lt__',\n",
       " '__module__',\n",
       " '__ne__',\n",
       " '__new__',\n",
       " '__reduce__',\n",
       " '__reduce_ex__',\n",
       " '__repr__',\n",
       " '__setattr__',\n",
       " '__sizeof__',\n",
       " '__str__',\n",
       " '__subclasshook__',\n",
       " '__weakref__',\n",
       " '_registered',\n",
       " 'avail',\n",
       " 'ensure_not_dirty',\n",
       " 'is_available',\n",
       " 'list',\n",
       " 'register',\n",
       " 'reset_available_writers',\n",
       " 'set_dirty']"
      ]
     },
     "execution_count": 34,
     "metadata": {},
     "output_type": "execute_result"
    }
   ],
   "source": [
    "dir(writers)"
   ]
  },
  {
   "cell_type": "code",
   "execution_count": null,
   "metadata": {},
   "outputs": [],
   "source": []
  }
 ],
 "metadata": {
  "kernelspec": {
   "display_name": "Python 3",
   "language": "python",
   "name": "python3"
  },
  "language_info": {
   "codemirror_mode": {
    "name": "ipython",
    "version": 3
   },
   "file_extension": ".py",
   "mimetype": "text/x-python",
   "name": "python",
   "nbconvert_exporter": "python",
   "pygments_lexer": "ipython3",
   "version": "3.8.5"
  },
  "varInspector": {
   "cols": {
    "lenName": 16,
    "lenType": 16,
    "lenVar": 40
   },
   "kernels_config": {
    "python": {
     "delete_cmd_postfix": "",
     "delete_cmd_prefix": "del ",
     "library": "var_list.py",
     "varRefreshCmd": "print(var_dic_list())"
    },
    "r": {
     "delete_cmd_postfix": ") ",
     "delete_cmd_prefix": "rm(",
     "library": "var_list.r",
     "varRefreshCmd": "cat(var_dic_list()) "
    }
   },
   "types_to_exclude": [
    "module",
    "function",
    "builtin_function_or_method",
    "instance",
    "_Feature"
   ],
   "window_display": false
  }
 },
 "nbformat": 4,
 "nbformat_minor": 4
}
